{
 "cells": [
  {
   "cell_type": "code",
   "execution_count": 2,
   "id": "1bfb49ad",
   "metadata": {},
   "outputs": [],
   "source": [
    "from PIL import ImageGrab\n",
    "import numpy as np\n",
    "import cv2\n",
    "from AppKit import NSScreen"
   ]
  },
  {
   "cell_type": "code",
   "execution_count": null,
   "id": "6f53a2b4",
   "metadata": {},
   "outputs": [],
   "source": [
    "\n",
    "fourcc = cv2.VideoWriter_fourcc(*'XVID')\n",
    "out = cv2.VideoWriter(\"output.avi\", fourcc, 5.0, (1366, 768))\n",
    "\n",
    "while True:\n",
    "\timg = ImageGrab.grab()\n",
    "\timg_np = np.array(img)\n",
    "\n",
    "\tframe = cv2.cvtColor(img_np, cv2.COLOR_BGR2RGB)\n",
    "\n",
    "        #if you want to see the creen tho there'll be a lot of them opened  \n",
    "        #so whenever there  it goes inside the loop it shows a new one\n",
    "\t#it'3 better to avoid it \n",
    "        #cv2.imshow('screen',frame)\n",
    "\n",
    "\tout.write(frame)\n",
    "        #if u show thw screen to quit pres 'Esc'  \n",
    "\tif cv2.waitKey(1) == 27:\n",
    "\t\tbreak\n",
    "out.release()\n",
    "cv2.destroyAllWindows()\n",
    "    "
   ]
  },
  {
   "cell_type": "code",
   "execution_count": null,
   "id": "835dc5b6",
   "metadata": {},
   "outputs": [],
   "source": [
    "\n"
   ]
  }
 ],
 "metadata": {
  "kernelspec": {
   "display_name": "Python 3 (ipykernel)",
   "language": "python",
   "name": "python3"
  },
  "language_info": {
   "codemirror_mode": {
    "name": "ipython",
    "version": 3
   },
   "file_extension": ".py",
   "mimetype": "text/x-python",
   "name": "python",
   "nbconvert_exporter": "python",
   "pygments_lexer": "ipython3",
   "version": "3.9.13"
  }
 },
 "nbformat": 4,
 "nbformat_minor": 5
}
